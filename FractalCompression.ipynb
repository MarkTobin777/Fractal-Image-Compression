{
 "cells": [
  {
   "cell_type": "code",
   "execution_count": 2,
   "metadata": {},
   "outputs": [],
   "source": [
    "import matplotlib.pyplot as plt\n",
    "import numpy as np\n",
    "import cv2 \n",
    "import imutils"
   ]
  },
  {
   "cell_type": "code",
   "execution_count": 3,
   "metadata": {},
   "outputs": [],
   "source": [
    "####### FRACTAL IMAGE COMPRESSION\n",
    "# follows the algorithm outlined in \"Introduction to Fractal Image Compression - Texas Instruments 1997\".\n",
    "# For readability variable names are the same as those given in the report. \n",
    "# The current version only works for square, greyscale images, so any test images must be converted to this format before compressing. \n",
    "\n",
    "## Transformations & helper functions \n",
    "# 1. Downscaling\n",
    "\n",
    "def resize(img,scale):\n",
    "    return imutils.resize(img, img.shape[0]//scale,img.shape[1]//scale)\n",
    "\n",
    "# 2. rotations \n",
    "\n",
    "def rotate(img, theta):\n",
    "    return imutils.rotate(img, theta) \n",
    "\n",
    "# 3. reflections -- rotates through x-axis\n",
    "\n",
    "def reflect(img,direction):\n",
    "    return img[::direction,:]\n",
    "\n",
    "# 4. combining all transformations \n",
    "\n",
    "def transform(img,direction,theta):\n",
    "    return(rotate(reflect(img,direction),theta))\n",
    "\n",
    "# SSE measures distance between two blocks\n",
    "def SSE(range_block, domain_block):\n",
    "    return(np.sum(domain_block - range_block)**2)\n",
    "\n",
    "# finds contrast value based on closed form solution given in \"Introduction to Fractal Image Compression\"\n",
    "def get_alpha(range_block, domain_block):\n",
    "    N = (domain_block.shape[0])**2\n",
    "    alpha = (N*np.sum(domain_block*range_block)- np.sum(domain_block)*np.sum(range_block))/(N*np.sum(domain_block**2)- np.sum(domain_block**2))\n",
    "    return(alpha)\n",
    "\n",
    "# finds brightness value based on closed form solution given in \"Introduction to Fractal Image Compression\"\n",
    "def get_t(range_block, domain_block,alpha):\n",
    "    N = (domain_block.shape[0])**2\n",
    "    t = (np.sum(range_block) - alpha*np.sum(domain_block))/N\n",
    "    return(t)"
   ]
  },
  {
   "cell_type": "code",
   "execution_count": 4,
   "metadata": {},
   "outputs": [],
   "source": [
    "## encoding function: takes an image and saves the best set of transformations and permutations in the fractal codebook. \n",
    "# codebook stores the position of each block and the best transformations to apply to them. \n",
    "\n",
    "def encode(img, range_size,domain_size):  \n",
    "    codebook = [] # will be the final list of blocks and transformations\n",
    "    perms = []    # will be the list of all blocks \n",
    "    D8 = [[r, theta] for r in [1,-1] for theta in [0, 90, 180, 270]] \n",
    "\n",
    "    # first, make all all domain blocks and their permutations, store in list.\n",
    "    scale = domain_size//range_size\n",
    "    count1 = img.shape[0]// domain_size\n",
    "    for k in range(count1):\n",
    "        for l in range(count1):\n",
    "            Domain_block = resize(img[k:k+domain_size,l:l+domain_size], scale) # creates a domain block\n",
    "            for r, theta in D8:\n",
    "                perms.append((k,l, r, theta, transform(Domain_block, r, theta)))\n",
    "    \n",
    "    # now find the best transformations by minimising SSE between range and domain blocks\n",
    "    count2 = img.shape[0] // range_size\n",
    "    for i in range(count2):                                                          \n",
    "        codebook.append([])\n",
    "        for j in range(count2):\n",
    "            codebook[i].append(None)\n",
    "            best = float('inf')\n",
    "            Range_block = img[i*range_size:(i+1)*range_size,j*range_size:(j+1)*range_size]    # creates a range block \n",
    "            for k, l, r, theta, Domain_block in perms:\n",
    "                alpha= get_alpha(Range_block,Domain_block)\n",
    "                t = get_t(Range_block,Domain_block, alpha)\n",
    "                Domain_block = alpha*Domain_block + t\n",
    "                d = SSE(Range_block,Domain_block)\n",
    "                if d < best:\n",
    "                    best = d\n",
    "                    codebook[i][j] = (k, l, r, theta, alpha, t)\n",
    "    return codebook"
   ]
  },
  {
   "cell_type": "code",
   "execution_count": 5,
   "metadata": {},
   "outputs": [],
   "source": [
    "# decoding function: takes an initial image and a fractal codebook as input. Then iteratively applies maps from fractal codebook to the \n",
    "#initial image for a specified number of iterations. Returns a list of matrices which can be plotted as images. \n",
    "# The initial image must be the same size as the original image.\n",
    "# For size argument, choose the same value as the range_size value when encoding.\n",
    "\n",
    "def decode(init_img,codebook,size,iter=6):\n",
    "    range_size,domain_size = size,size\n",
    "    iterations = [init_img]\n",
    "    img = np.zeros((init_img.shape[0],init_img.shape[1]))\n",
    "    for i_iter in range(iter):\n",
    "        for i in range(len(codebook)):\n",
    "            for j in range(len(codebook[i])):\n",
    "                k, l, r, theta, alpha, t = codebook[i][j]\n",
    "                Domain_block = iterations[-1][k:k+range_size,l:l+range_size]\n",
    "                Range_block = alpha*transform(Domain_block, r, theta)+t\n",
    "                img[i*domain_size:(i+1)*domain_size,j*domain_size:(j+1)*domain_size] = Range_block\n",
    "        iterations.append(img)\n",
    "        img = np.zeros((init_img.shape[0],init_img.shape[1]))\n",
    "    return iterations"
   ]
  },
  {
   "cell_type": "code",
   "execution_count": 6,
   "metadata": {},
   "outputs": [],
   "source": [
    "## make a greyscale image --- only dealing with greyscale images for this project.\n",
    "# to return a colour image we could split an RGB image into its 3 colour channels and apply the encoding/decoding to each channel, then stitch it back together. \n",
    "\n",
    "def make_test_img(img,d,x_offset, y_offset,scale=1):\n",
    "    r,g,b = img[:,:,0],img[:,:,1],img[:,:,2]\n",
    "    grey = 0.2989*r + 0.587*g + 0.114*b\n",
    "    return(resize(grey[y_offset:y_offset+d,x_offset:x_offset+d],scale))\n",
    "\n",
    "def find_comp_ratio(img,codebook):\n",
    "    import sys\n",
    "    return(print(f\"Original size: {sys.getsizeof(img)}\"),print(f\"Compressed size: {sys.getsizeof(codebook)}\"),print(f\"Compression ratio: {sys.getsizeof(img)/sys.getsizeof(codebook)}\"))\n"
   ]
  },
  {
   "cell_type": "code",
   "execution_count": 11,
   "metadata": {},
   "outputs": [],
   "source": [
    "## test images\n",
    "\n",
    "fern = cv2.imread(\"images/black spleenwort fern.jpg\")[...,::-1] \n",
    "gibbon = cv2.imread(\"images/gibbon.jpg\")[...,::-1]"
   ]
  },
  {
   "cell_type": "code",
   "execution_count": 18,
   "metadata": {},
   "outputs": [
    {
     "name": "stdout",
     "output_type": "stream",
     "text": [
      "Original size: 80128\n",
      "Compressed size: 120\n",
      "Compression ratio: 667.7333333333333\n"
     ]
    },
    {
     "data": {
      "text/plain": [
       "(None, None, None)"
      ]
     },
     "execution_count": 18,
     "metadata": {},
     "output_type": "execute_result"
    }
   ],
   "source": [
    "## TESTING\n",
    "# Here load two images: an image to compress and an initial image for decoding. Make sure they are the same size. Then you can change the range and domain block\n",
    "# sizes when encoding to try out different compression ratios. Just beware that it becomes very slow for block sizes under 8. \n",
    "\n",
    "\n",
    "test_gibbon = make_test_img(gibbon,100,100,2)\n",
    "test_fern = make_test_img(fern,100,100,2)\n",
    "\n",
    "enc = encode(test_gibbon,16,32)\n",
    "dec = decode(test_fern,enc,16)\n",
    "\n",
    "find_comp_ratio(test_gibbon,enc)"
   ]
  },
  {
   "cell_type": "code",
   "execution_count": 17,
   "metadata": {},
   "outputs": [
    {
     "data": {
      "text/plain": [
       "<matplotlib.image.AxesImage at 0x23616eed890>"
      ]
     },
     "execution_count": 17,
     "metadata": {},
     "output_type": "execute_result"
    },
    {
     "data": {
      "image/png": "[encoded data removed]",
      "text/plain": [
       "<Figure size 640x480 with 1 Axes>"
      ]
     },
     "metadata": {},
     "output_type": "display_data"
    }
   ],
   "source": [
    "# changing the value plots different iterations. \n",
    "\n",
    "plt.imshow(dec[6],cmap = \"grey\")"
   ]
  }
 ],
 "metadata": {
  "kernelspec": {
   "display_name": "Python 3",
   "language": "python",
   "name": "python3"
  },
  "language_info": {
   "codemirror_mode": {
    "name": "ipython",
    "version": 3
   },
   "file_extension": ".py",
   "mimetype": "text/x-python",
   "name": "python",
   "nbconvert_exporter": "python",
   "pygments_lexer": "ipython3",
   "version": "3.11.5"
  }
 },
 "nbformat": 4,
 "nbformat_minor": 2
}
